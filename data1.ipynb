{
 "cells": [
  {
   "cell_type": "markdown",
   "id": "1fdb50b5",
   "metadata": {},
   "source": []
  },
  {
   "cell_type": "code",
   "execution_count": null,
   "id": "1123a54e",
   "metadata": {},
   "outputs": [],
   "source": [
    "import pandas as pd\n",
    "\n",
    "# Dialogue set from Cornell Movie-Dialogs Corpus\n",
    "\n",
    "# Lines tsv\n",
    "lines_raw = pd.read_csv(\"dialogue/movie_lines.tsv\", header=None, names=[\"raw\"])\n",
    "lines_split = lines_raw[\"raw\"].str.split(\"\\t\", expand=False)\n",
    "\n",
    "fixed_rows = []\n",
    "for row in lines_split:\n",
    "    if len(row) > 5:\n",
    "        row = row[:4] + [\" \".join(row[4:])]\n",
    "    elif len(row) < 5:\n",
    "        row += [None] * (5 - len(row))\n",
    "    fixed_rows.append(row)\n",
    "\n",
    "lines = pd.DataFrame(fixed_rows, columns=[\"lineID\", \"characterID\", \"movieID\", \"characterName\", \"text\"])\n",
    "\n",
    "# Characters tsv\n",
    "characters_raw = pd.read_csv(\"dialogue/movie_characters_metadata.tsv\", header=None, names=[\"raw\"])\n",
    "characters_split = characters_raw[\"raw\"].str.split(\"\\t\", expand=False)\n",
    "\n",
    "fixed_rows = []\n",
    "for row in characters_split:\n",
    "    if len(row) > 6:\n",
    "        row = row[:4] + [\" \".join(row[4:])]\n",
    "    elif len(row) < 6:\n",
    "        row += [None] * (6 - len(row))\n",
    "    fixed_rows.append(row)\n",
    "\n",
    "characters = pd.DataFrame(fixed_rows, columns=[\"characterID\", \"characterName\", \"movieID\", \"movieTitle\", \"gender\", \"creditPosition\"])\n",
    "\n",
    "# movies tsv\n",
    "movies = pd.read_csv(\"dialogue/movie_titles_metadata.tsv\", header=None, delimiter=\"\\t\", names=[\"movieID\", \"title\", \"year\", \"imdbRating\", \"imdbVotes\", \"genres\"])"
   ]
  },
  {
   "cell_type": "code",
   "execution_count": 26,
   "id": "52f35ffb",
   "metadata": {},
   "outputs": [],
   "source": [
    "# The Pudding analysis complete gender data:\n",
    "gender_data = pd.read_csv(\"pudding/character_list5.csv\", header=0, encoding=\"latin-1\")\n",
    "script_metadata = pd.read_csv(\"pudding/meta_data7.csv\", header=0, encoding=\"latin-1\")"
   ]
  },
  {
   "cell_type": "code",
   "execution_count": null,
   "id": "8e77f81b",
   "metadata": {},
   "outputs": [],
   "source": [
    "# Using NLTK to tokenize text\n",
    "import nltk\n",
    "nltk.download('punkt')\n",
    "from nltk.tokenize import word_tokenize\n",
    "lines[\"tokens\"] = lines[\"text\"].apply(lambda x: word_tokenize(x) if pd.notnull(x) else [])\n",
    "lines[\"token_count\"] = lines[\"tokens\"].apply(len)\n",
    "lines[\"word_count\"] = lines[\"text\"].apply(lambda x: len(x.split()) if pd.notnull(x) else 0)"
   ]
  }
 ],
 "metadata": {
  "kernelspec": {
   "display_name": "base",
   "language": "python",
   "name": "python3"
  },
  "language_info": {
   "codemirror_mode": {
    "name": "ipython",
    "version": 3
   },
   "file_extension": ".py",
   "mimetype": "text/x-python",
   "name": "python",
   "nbconvert_exporter": "python",
   "pygments_lexer": "ipython3",
   "version": "3.12.7"
  }
 },
 "nbformat": 4,
 "nbformat_minor": 5
}
