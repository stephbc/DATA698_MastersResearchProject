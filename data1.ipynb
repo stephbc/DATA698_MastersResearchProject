{
 "cells": [
  {
   "cell_type": "markdown",
   "id": "1fdb50b5",
   "metadata": {},
   "source": [
    "- (First part based on previous research) films examined for male bias based on scripts/dialogue\n",
    "    - male character line count, etc\n",
    "    - and/or number of male characters (“above the line” talent)\n",
    "- add in rotten tomatoes score for analysis of critical/journalistic/more academic reception \n",
    "- add in oscar nominations/wins for analysis of professional/peer reception \n",
    "- join these datasets based on movie title and year\n",
    "- model relationships between these variables (step 1 predictor, steps 2 & 3 response) "
   ]
  },
  {
   "cell_type": "code",
   "execution_count": 89,
   "id": "7383e110",
   "metadata": {},
   "outputs": [],
   "source": [
    "import pandas as pd\n",
    "import numpy as np\n",
    "import matplotlib.pyplot as plt\n",
    "import seaborn as sns"
   ]
  },
  {
   "cell_type": "code",
   "execution_count": null,
   "id": "1123a54e",
   "metadata": {},
   "outputs": [],
   "source": [
    "# # Dialogue set from Cornell Movie-Dialogs Corpus\n",
    "# # For manual result recreation, if necessary\n",
    "\n",
    "# # Lines data\n",
    "# lines_raw = pd.read_csv(\"dialogue/movie_lines.tsv\", header=None, names=[\"raw\"])\n",
    "# lines_split = lines_raw[\"raw\"].str.split(\"\\t\", expand=False)\n",
    "\n",
    "# fixed_rows = []\n",
    "# for row in lines_split:\n",
    "#     if len(row) > 5:\n",
    "#         row = row[:4] + [\" \".join(row[4:])]\n",
    "#     elif len(row) < 5:\n",
    "#         row += [None] * (5 - len(row))\n",
    "#     fixed_rows.append(row)\n",
    "\n",
    "# lines = pd.DataFrame(fixed_rows, columns=[\"lineID\", \"characterID\", \"movieID\", \"characterName\", \"text\"])\n",
    "\n",
    "# # Character data\n",
    "# characters_raw = pd.read_csv(\"dialogue/movie_characters_metadata.tsv\", header=None, names=[\"raw\"])\n",
    "# characters_split = characters_raw[\"raw\"].str.split(\"\\t\", expand=False)\n",
    "\n",
    "# fixed_rows = []\n",
    "# for row in characters_split:\n",
    "#     if len(row) > 6:\n",
    "#         row = row[:4] + [\" \".join(row[4:])]\n",
    "#     elif len(row) < 6:\n",
    "#         row += [None] * (6 - len(row))\n",
    "#     fixed_rows.append(row)\n",
    "\n",
    "# characters = pd.DataFrame(fixed_rows, columns=[\"characterID\", \"characterName\", \"movieID\", \"movieTitle\", \"gender\", \"creditPosition\"])\n",
    "\n",
    "# # Movie data\n",
    "# pd_movies = pd.read_csv(\"dialogue/movie_titles_metadata.tsv\", header=None, delimiter=\"\\t\", names=[\"movieID\", \"title\", \"year\", \"imdbRating\", \"imdbVotes\", \"genres\"])\n",
    "\n",
    "# # recreate gender analysis:\n",
    "# # lines: break down to tokens/word count\n",
    "# # aggregate number of lines/rows per character\n",
    "# # join on chars \n",
    "# # agg per movie based on char gender"
   ]
  },
  {
   "cell_type": "code",
   "execution_count": null,
   "id": "8e77f81b",
   "metadata": {},
   "outputs": [],
   "source": [
    "# Using NLTK to tokenize text\n",
    "# import nltk\n",
    "# nltk.download('punkt')\n",
    "# from nltk.tokenize import word_tokenize\n",
    "# lines[\"tokens\"] = lines[\"text\"].apply(lambda x: word_tokenize(x) if pd.notnull(x) else [])\n",
    "# lines[\"token_count\"] = lines[\"tokens\"].apply(len)\n",
    "# lines[\"word_count\"] = lines[\"text\"].apply(lambda x: len(x.split()) if pd.notnull(x) else 0)"
   ]
  },
  {
   "cell_type": "markdown",
   "id": "c87fec0b",
   "metadata": {},
   "source": [
    "### IMPORTS"
   ]
  },
  {
   "cell_type": "code",
   "execution_count": 130,
   "id": "52f35ffb",
   "metadata": {},
   "outputs": [
    {
     "name": "stdout",
     "output_type": "stream",
     "text": [
      "<class 'pandas.core.frame.DataFrame'>\n",
      "Index: 23043 entries, 0 to 23047\n",
      "Data columns (total 6 columns):\n",
      " #   Column     Non-Null Count  Dtype   \n",
      "---  ------     --------------  -----   \n",
      " 0   character  23041 non-null  object  \n",
      " 1   words      23043 non-null  int64   \n",
      " 2   gender     23043 non-null  category\n",
      " 3   age        18261 non-null  float64 \n",
      " 4   title      23043 non-null  object  \n",
      " 5   year       23043 non-null  int64   \n",
      "dtypes: category(1), float64(1), int64(2), object(2)\n",
      "memory usage: 1.1+ MB\n",
      "None\n"
     ]
    }
   ],
   "source": [
    "# The Pudding's script gender analysis dataset:\n",
    "\n",
    "gender_data = pd.read_csv(\"pudding/character_list5.csv\", header=0, encoding=\"latin-1\")\n",
    "script_metadata = pd.read_csv(\"pudding/meta_data7.csv\", header=0, encoding=\"latin-1\")\n",
    "\n",
    "gender_raw = gender_data.merge(script_metadata, how=\"left\", on=\"script_id\")\n",
    "gender = gender_raw[[\"imdb_character_name\", \"words\", \"gender\", \"age\", \"title\", \"year\"]].copy()\n",
    "\n",
    "gender.loc[:, \"title\"] = gender[\"title\"].str.replace(r'[^A-Za-z0-9 ]', '', regex=True).str.lower().str.strip()\n",
    "\n",
    "gender[\"gender\"] = gender[\"gender\"].replace(\"?\", np.nan)\n",
    "gender[\"gender\"] = gender[\"gender\"].astype(\"category\")\n",
    "gender = gender.dropna(subset=[\"gender\"])\n",
    "# print(gender[\"gender\"].isnull().sum())\n",
    "\n",
    "gender = gender.rename(columns={\"imdb_character_name\": \"character\"})\n",
    "\n",
    "print(gender.info())"
   ]
  },
  {
   "cell_type": "code",
   "execution_count": 131,
   "id": "03be1caf",
   "metadata": {},
   "outputs": [
    {
     "name": "stdout",
     "output_type": "stream",
     "text": [
      "<class 'pandas.core.frame.DataFrame'>\n",
      "RangeIndex: 17712 entries, 0 to 17711\n",
      "Data columns (total 8 columns):\n",
      " #   Column                            Non-Null Count  Dtype   \n",
      "---  ------                            --------------  -----   \n",
      " 0   tomatometer_rating                17668 non-null  float64 \n",
      " 1   tomatometer_count                 17668 non-null  float64 \n",
      " 2   tomatometer_top_critics_count     17712 non-null  int64   \n",
      " 3   tomatometer_fresh_critics_count   17712 non-null  int64   \n",
      " 4   tomatometer_rotten_critics_count  17712 non-null  int64   \n",
      " 5   title                             17712 non-null  object  \n",
      " 6   year                              16546 non-null  float64 \n",
      " 7   tomatometer_status                17668 non-null  category\n",
      "dtypes: category(1), float64(3), int64(3), object(1)\n",
      "memory usage: 986.2+ KB\n",
      "None\n"
     ]
    }
   ],
   "source": [
    "# Rotten Tomatoes dataset\n",
    "\n",
    "rt_raw = pd.read_csv(\"rt/rotten_tomatoes_movies.csv\", header=0)\n",
    "rt = rt_raw[[\"tomatometer_rating\", \"tomatometer_count\", \"tomatometer_top_critics_count\", \"tomatometer_fresh_critics_count\", \"tomatometer_rotten_critics_count\"]].copy()\n",
    "\n",
    "rt[\"title\"] = rt_raw[\"movie_title\"].str.replace(r'[^A-Za-z0-9 ]', '', regex=True).str.lower().str.strip()\n",
    "rt[\"year\"] = pd.to_datetime(rt_raw[\"original_release_date\"]).dt.year\n",
    "rt[\"tomatometer_status\"] = rt_raw[\"tomatometer_status\"].astype(\"category\")\n",
    "\n",
    "# print(rt.isnull().sum())\n",
    "print(rt.info())"
   ]
  },
  {
   "cell_type": "code",
   "execution_count": 132,
   "id": "9e04caad",
   "metadata": {},
   "outputs": [
    {
     "name": "stdout",
     "output_type": "stream",
     "text": [
      "<class 'pandas.core.frame.DataFrame'>\n",
      "Index: 10751 entries, 0 to 11105\n",
      "Data columns (total 4 columns):\n",
      " #   Column  Non-Null Count  Dtype   \n",
      "---  ------  --------------  -----   \n",
      " 0   winner  10751 non-null  bool    \n",
      " 1   title   10751 non-null  object  \n",
      " 2   year    10751 non-null  int64   \n",
      " 3   award   10751 non-null  category\n",
      "dtypes: bool(1), category(1), int64(1), object(1)\n",
      "memory usage: 275.5+ KB\n",
      "None\n"
     ]
    }
   ],
   "source": [
    "# Oscars dataset\n",
    "\n",
    "oscars_raw = pd.read_csv(\"oscars/the_oscar_award.csv\", header=0)\n",
    "oscars = oscars_raw[[\"winner\"]].copy()\n",
    "\n",
    "oscars[\"title\"] = oscars_raw[\"film\"].str.replace(r'[^A-Za-z0-9 ]', '', regex=True).str.lower().str.strip()\n",
    "oscars[\"year\"] = (oscars_raw[\"year_film\"])\n",
    "oscars[\"award\"] = oscars_raw[\"canon_category\"].astype(\"category\")\n",
    "\n",
    "# print(oscars.isnull().sum())\n",
    "oscars = oscars.dropna(subset=[\"title\"])\n",
    "\n",
    "print(oscars.info())"
   ]
  },
  {
   "cell_type": "markdown",
   "id": "1d6ef1d5",
   "metadata": {},
   "source": [
    "### DATA WRANGLING & TIDYING"
   ]
  },
  {
   "cell_type": "code",
   "execution_count": 164,
   "id": "f28cb5bd",
   "metadata": {},
   "outputs": [
    {
     "name": "stdout",
     "output_type": "stream",
     "text": [
      "                        title  words_male  words_female  num_male  num_female  \\\n",
      "0  10 things i hate about you       10688          8992         8           4   \n",
      "1              12 and holding       10644          5324        10           5   \n",
      "2            12 years a slave       16176          3452        22           6   \n",
      "3                   127 hours        4336           809         1           3   \n",
      "4                        1408        3039           284         3           1   \n",
      "\n",
      "   year dominant_gender  \n",
      "0  1999               f  \n",
      "1  2005               f  \n",
      "2  2013               m  \n",
      "3  2010               m  \n",
      "4  2007               m  \n"
     ]
    }
   ],
   "source": [
    "# Calculate the number of words by character gender and number of male and female characters per film\n",
    "film_gender = gender.groupby(\"title\", observed=True).agg(\n",
    "    words_male=(\"words\", lambda x: x[gender.loc[x.index, \"gender\"]==\"m\"].sum()),\n",
    "    words_female=(\"words\", lambda x: x[gender.loc[x.index, \"gender\"]==\"f\"].sum()),\n",
    "    num_male=(\"gender\", lambda x: (x==\"m\").sum()),\n",
    "    num_female=(\"gender\", lambda x: (x==\"f\").sum()),\n",
    "    year=(\"year\", \"first\")\n",
    ").reset_index()\n",
    "\n",
    "# film_gender[\"dominant_gender\"] = film_gender.apply(\n",
    "#     lambda row: \"m\" if row.words_male >= row.words_female else \"f\",\n",
    "#     axis=1\n",
    "# )\n",
    "\n",
    "# Determine gender dominance by ratio of word count to number of characters by gender\n",
    "def dominant_by_ratio(row):\n",
    "    male_ratio = row.words_male / row.num_male if row.num_male > 0 else 0\n",
    "    female_ratio = row.words_female / row.num_female if row.num_female > 0 else 0\n",
    "    return \"m\" if male_ratio >= female_ratio else \"f\"\n",
    "\n",
    "film_gender[\"dominant_gender\"] = film_gender.apply(dominant_by_ratio, axis=1)\n",
    "\n",
    "print(film_gender.head())"
   ]
  },
  {
   "cell_type": "code",
   "execution_count": 228,
   "id": "b9fb8eaa",
   "metadata": {},
   "outputs": [
    {
     "name": "stdout",
     "output_type": "stream",
     "text": [
      "<class 'pandas.core.frame.DataFrame'>\n",
      "RangeIndex: 2283 entries, 0 to 2282\n",
      "Data columns (total 9 columns):\n",
      " #   Column           Non-Null Count  Dtype   \n",
      "---  ------           --------------  -----   \n",
      " 0   title            2283 non-null   object  \n",
      " 1   words_male       2283 non-null   int64   \n",
      " 2   words_female     2283 non-null   int64   \n",
      " 3   num_male         2283 non-null   int64   \n",
      " 4   num_female       2283 non-null   int64   \n",
      " 5   year             2283 non-null   int64   \n",
      " 6   dominant_gender  2283 non-null   object  \n",
      " 7   winner           2283 non-null   bool    \n",
      " 8   award            2283 non-null   category\n",
      "dtypes: bool(1), category(1), int64(5), object(2)\n",
      "memory usage: 131.9+ KB\n",
      "None\n",
      "517\n",
      "1766\n"
     ]
    }
   ],
   "source": [
    "# Join on title and year for Academy Award data\n",
    "oscars_full = pd.merge(film_gender, oscars, on=[\"title\", \"year\"], how=\"inner\")\n",
    "\n",
    "# Split acting vs non-acting awards due to inherent gendering\n",
    "if_act = oscars_full[\"award\"].str.contains(\"ACTOR|ACTRESS\", case=False, na=False)\n",
    "\n",
    "oscars_acting = oscars_full[if_act] # acting awards\n",
    "oscars_other = oscars_full[~if_act] # all other awards\n",
    "\n",
    "print(oscars_full.info())\n",
    "print(len(oscars_acting))\n",
    "print(len(oscars_other))"
   ]
  },
  {
   "cell_type": "code",
   "execution_count": 170,
   "id": "aaf50898",
   "metadata": {},
   "outputs": [
    {
     "name": "stdout",
     "output_type": "stream",
     "text": [
      "<class 'pandas.core.frame.DataFrame'>\n",
      "RangeIndex: 1612 entries, 0 to 1611\n",
      "Data columns (total 13 columns):\n",
      " #   Column                            Non-Null Count  Dtype   \n",
      "---  ------                            --------------  -----   \n",
      " 0   title                             1612 non-null   object  \n",
      " 1   words_male                        1612 non-null   int64   \n",
      " 2   words_female                      1612 non-null   int64   \n",
      " 3   num_male                          1612 non-null   int64   \n",
      " 4   num_female                        1612 non-null   int64   \n",
      " 5   year                              1612 non-null   int64   \n",
      " 6   dominant_gender                   1612 non-null   object  \n",
      " 7   tomatometer_rating                1611 non-null   float64 \n",
      " 8   tomatometer_count                 1611 non-null   float64 \n",
      " 9   tomatometer_top_critics_count     1612 non-null   int64   \n",
      " 10  tomatometer_fresh_critics_count   1612 non-null   int64   \n",
      " 11  tomatometer_rotten_critics_count  1612 non-null   int64   \n",
      " 12  tomatometer_status                1611 non-null   category\n",
      "dtypes: category(1), float64(2), int64(8), object(2)\n",
      "memory usage: 153.0+ KB\n",
      "None\n"
     ]
    }
   ],
   "source": [
    "# Join on title and year for review data\n",
    "gender_rt = pd.merge(film_gender, rt, on=[\"title\", \"year\"], how=\"inner\")\n",
    "print(gender_rt.info())"
   ]
  },
  {
   "cell_type": "markdown",
   "id": "e2bbb7b5",
   "metadata": {},
   "source": [
    "### EDA"
   ]
  },
  {
   "cell_type": "code",
   "execution_count": null,
   "id": "f0b10ec3",
   "metadata": {},
   "outputs": [],
   "source": [
    "# Aggregate for plotting\n",
    "other_summary = oscars_other.groupby([\"title\", \"year\", \"dominant_gender\"], observed=True).agg(\n",
    "    total_nominations=(\"award\", \"count\"),\n",
    "    total_wins=(\"winner\", \"sum\")\n",
    ").reset_index()\n",
    "\n",
    "acting_summary = oscars_acting.groupby([\"title\", \"year\", \"dominant_gender\"], observed=True).agg(\n",
    "    total_nominations=(\"award\", \"count\"),\n",
    "    actor_noms=(\"award\", lambda x: (x.str.contains(\"ACTOR\", case=False)).sum()),\n",
    "    actress_noms=(\"award\", lambda x: (x.str.contains(\"ACTRESS\", case=False)).sum()),\n",
    "    total_wins=(\"winner\", \"sum\")\n",
    ").reset_index()"
   ]
  },
  {
   "cell_type": "code",
   "execution_count": 232,
   "id": "f9d30be2",
   "metadata": {},
   "outputs": [
    {
     "data": {
      "image/png": "[encoded data removed]",
      "text/plain": [
       "<Figure size 1200x600 with 1 Axes>"
      ]
     },
     "metadata": {},
     "output_type": "display_data"
    }
   ],
   "source": [
    "# Simple distribution of awards by dominant gender \n",
    "counts = other_summary.groupby([\"total_nominations\", \"dominant_gender\"], observed=True).size().reset_index(name=\"film_count\")\n",
    "counts_pivot = counts.pivot(index=\"total_nominations\", columns=\"dominant_gender\", values=\"film_count\").fillna(0)\n",
    "\n",
    "# Set positions\n",
    "x = np.arange(len(counts_pivot.index))  # one position per nominations value\n",
    "width = 0.35  # width of each bar\n",
    "\n",
    "plt.figure(figsize=(12, 6))\n",
    "\n",
    "# Plot Male bars\n",
    "plt.bar(x - width/2, counts_pivot[\"m\"], width, label=\"Male\", color=\"blue\")\n",
    "# Plot Female bars\n",
    "plt.bar(x + width/2, counts_pivot[\"f\"], width, label=\"Female\", color=\"pink\")\n",
    "\n",
    "plt.xlabel(\"Total Nominations\")\n",
    "plt.ylabel(\"Number of Films\")\n",
    "plt.title(\"Number of Films by Total Nominations and Dominant Words Gender\")\n",
    "plt.xticks(x, counts_pivot.index)\n",
    "plt.legend(title=\"Dominant Gender by Words\")\n",
    "plt.tight_layout()\n",
    "plt.show()"
   ]
  }
 ],
 "metadata": {
  "kernelspec": {
   "display_name": "base",
   "language": "python",
   "name": "python3"
  },
  "language_info": {
   "codemirror_mode": {
    "name": "ipython",
    "version": 3
   },
   "file_extension": ".py",
   "mimetype": "text/x-python",
   "name": "python",
   "nbconvert_exporter": "python",
   "pygments_lexer": "ipython3",
   "version": "3.12.7"
  }
 },
 "nbformat": 4,
 "nbformat_minor": 5
}
